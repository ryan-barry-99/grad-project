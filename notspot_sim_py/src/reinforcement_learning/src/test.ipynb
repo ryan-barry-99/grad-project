{
 "cells": [
  {
   "cell_type": "code",
   "execution_count": null,
   "metadata": {},
   "outputs": [],
   "source": [
    "\n",
    "        rospy.Subscriber('/realsense/depth/color/points', PointCloud2, self.realsense_callback)\n",
    "\n",
    "\n",
    "    def realsense_callback(self, cloud_msg):\n",
    "        self.point_cloud_realsense = PointCloud()\n",
    "        i = 0\n",
    "        indices = []\n",
    "        \"\"\"\n",
    "        Every 15 indices starting at 6 and 7 should be usable for detecting wall presence\n",
    "        \"\"\"\n",
    "        for point in pc2.read_points(cloud_msg, skip_nans=True, field_names=(\"x\", \"y\", \"z\")):\n",
    "            # if i == 6 or i==7 or (i-6)%15==0 or (i-7)%15==0:\n",
    "            pnt = Point32()\n",
    "            pnt.x = point[0]\n",
    "            pnt.y = point[1]\n",
    "            pnt.z = point[2]\n",
    "            if abs(pnt.z) < 0.1:\n",
    "                indices.append(i)\n",
    "            # rospy.loginfo(point[2])\n",
    "            self.point_cloud_realsense.points.append(pnt)\n",
    "            i += 1\n",
    "\n",
    "        self.pc_rs_pub.publish(self.point_cloud_realsense)"
   ]
  },
  {
   "cell_type": "code",
   "execution_count": null,
   "metadata": {},
   "outputs": [],
   "source": [
    "\n",
    "        rospy.Subscriber('/velodyne_points', PointCloud2, self.velodyne_callback)\n",
    "\n",
    "    def velodyne_callback(self, cloud_msg):\n",
    "        self.point_cloud = PointCloud()\n",
    "        i = 0\n",
    "        indices = []\n",
    "        \"\"\"\n",
    "        Every 15 indices starting at 6 and 7 should be usable for detecting wall presence\n",
    "        \"\"\"\n",
    "        for point in pc2.read_points(cloud_msg, skip_nans=True, field_names=(\"x\", \"y\", \"z\")):\n",
    "            # if i == 6 or i==7 or (i-6)%15==0 or (i-7)%15==0:\n",
    "            pnt = Point32()\n",
    "            pnt.x = point[0]\n",
    "            pnt.y = point[1]\n",
    "            pnt.z = point[2]\n",
    "            if abs(pnt.z) < 0.1:\n",
    "                indices.append(i)\n",
    "            # rospy.loginfo(point[2])\n",
    "            self.point_cloud.points.append(pnt)\n",
    "            i += 1\n",
    "\n",
    "        self.pc_pub.publish(self.point_cloud)\n",
    "        # rospy.loginfo(indices)"
   ]
  }
 ],
 "metadata": {
  "kernelspec": {
   "display_name": "Python 3",
   "language": "python",
   "name": "python3"
  },
  "language_info": {
   "codemirror_mode": {
    "name": "ipython",
    "version": 3
   },
   "file_extension": ".py",
   "mimetype": "text/x-python",
   "name": "python",
   "nbconvert_exporter": "python",
   "pygments_lexer": "ipython3",
   "version": "3.8.10"
  }
 },
 "nbformat": 4,
 "nbformat_minor": 2
}
